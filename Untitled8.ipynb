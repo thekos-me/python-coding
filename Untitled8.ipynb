{
 "cells": [
  {
   "cell_type": "markdown",
   "metadata": {},
   "source": [
    "Homework Assignment #8: Input and Output (I/O)\n",
    "\n",
    "\n",
    "Details:\n",
    " \n",
    "Create a note-taking program. When a user starts it up, it should prompt them for a filename.\n",
    "\n",
    "If they enter a file name that doesn't exist, it should prompt them to enter the text they want to write to the file. After they enter the text, it should save the file and exit.\n",
    "\n",
    "If they enter a file name that already exists, it should ask the user if they want:\n",
    "\n",
    "A) Read the file\n",
    "\n",
    "B) Delete the file and start over\n",
    "\n",
    "C) Append the file\n",
    "\n",
    "If the user wants to read the file it should simply show the contents of the file on the screen. If the user wants to start over then the file should be deleted and another empty one made in its place. If a user elects to append the file, then they should be able to enter more text, and that text should be added to the existing text in the file. "
   ]
  },
  {
   "cell_type": "code",
   "execution_count": 61,
   "metadata": {},
   "outputs": [
    {
     "name": "stdout",
     "output_type": "stream",
     "text": [
      "please enter a file name: lami\n",
      "please write to file: Lami I love you\n",
      "Lami I love you\n"
     ]
    }
   ],
   "source": [
    "file = input(\"please enter a file name: \")\n",
    "notebook = open(file,\"w\")\n",
    "if file is not False:\n",
    "    writefile = input(\"please write to file: \")\n",
    "    read=notebook.write(writefile)\n",
    "    notebook.close()\n"
   ]
  },
  {
   "cell_type": "code",
   "execution_count": 12,
   "metadata": {},
   "outputs": [
    {
     "name": "stdout",
     "output_type": "stream",
     "text": [
      "i love you\n"
     ]
    }
   ],
   "source": [
    "notebook.close()\n",
    "notebook= open(\"lami\",\"r\")\n",
    "read = notebook.read()\n",
    "print(read)"
   ]
  },
  {
   "cell_type": "code",
   "execution_count": null,
   "metadata": {},
   "outputs": [],
   "source": [
    "file = input(\"please enter a file name: \")\n",
    "notebook = open(file,\"r+\")\n",
    "if file not in notebook:\n",
    "    writefile = input(\"please write to file: \")\n",
    "    notebook.write(writefile)\n",
    "    notebook.close()\n",
    "elif file == notebook:\n",
    "    r= input(\"do you want to read the file?: \")\n",
    "    d= input(\"do you want to delete the file and start over?: \")\n",
    "    a= input(\"do you want to append the file?: \")\n",
    "elif r: \n",
    "    print(notebook)\n",
    "elif d:\n",
    "    del file\n",
    "    file = input(\"please enter new file name: \")\n",
    "    notebook = open(file,\"w\")\n",
    "    writefile = input(\"please write to file\")\n",
    "    notebook.write(writefile)\n",
    "    notebook.close()\n",
    "elif a:\n",
    "    notebook = open(file,\"a\")\n",
    "    appendfile = input(\"please write new content: \")\n",
    "    notebook.append(appendfile)\n",
    "    notebook.close()"
   ]
  }
 ],
 "metadata": {
  "kernelspec": {
   "display_name": "Python 3",
   "language": "python",
   "name": "python3"
  },
  "language_info": {
   "codemirror_mode": {
    "name": "ipython",
    "version": 3
   },
   "file_extension": ".py",
   "mimetype": "text/x-python",
   "name": "python",
   "nbconvert_exporter": "python",
   "pygments_lexer": "ipython3",
   "version": "3.8.5"
  }
 },
 "nbformat": 4,
 "nbformat_minor": 4
}
